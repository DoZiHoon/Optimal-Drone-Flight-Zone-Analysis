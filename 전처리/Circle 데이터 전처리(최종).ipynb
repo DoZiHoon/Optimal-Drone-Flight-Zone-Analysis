{
 "cells": [
  {
   "cell_type": "code",
   "execution_count": 1,
   "id": "e7ea5614-99ed-460e-a35b-17b195530710",
   "metadata": {},
   "outputs": [],
   "source": [
    "import urllib.request\n",
    "from bs4 import BeautifulSoup\n",
    "import pandas as pd\n",
    "import re\n",
    "import math\n",
    "import os\n",
    "import ast"
   ]
  },
  {
   "cell_type": "code",
   "execution_count": 2,
   "id": "d8359ae8-13e5-4c30-8bd8-b54c3a34fccf",
   "metadata": {
    "scrolled": true
   },
   "outputs": [
    {
     "name": "stdout",
     "output_type": "stream",
     "text": [
      "      구역 코드   위치                                               수평범위  \\\n",
      "0      UA 2  구성산  Circle with radius of 1.8 km (1.0 NM) centered...   \n",
      "1      UA 3   약산  Circle with radius of 0.7 km (0.4 NM) centered...   \n",
      "2      UA 4  봉화산  Circle with radius of 4.0 km (2.2 NM) centered...   \n",
      "3      UA 5  덕두산  Circle with radius of 4.5 km (2.4 NM) centered...   \n",
      "4      UA 6   금산  Circle with radius of 2.1 km (1.1 NM) centered...   \n",
      "5      UA 7   홍산  Circle with radius of 1.2 km (0.7 NM) centered...   \n",
      "6      UA 9   양평  373010N 1272300E - 373010N 1273200E - 372700N ...   \n",
      "7     UA 10   고창  Circle with radius of 4.0 km (2.2 NM) centered...   \n",
      "8     UA 14   공주  363038N 1270033E - 363002N 1270713E - 362604N ...   \n",
      "9     UA 19  시화호  371751N 1264215E - 371724N 1265000E - 371430N ...   \n",
      "10    UA 21  방장산  Circle with radius of 3.0 km (1.6 NM) centered...   \n",
      "11    UA 24   구좌  Circle with radius of 2.8 km (1.5 NM) centered...   \n",
      "12    UA 25   하동  350147N 1274325E - 350145N 1274741E - 345915N ...   \n",
      "13    UA 26  장암산  372338N 1282419E - 372410N 1282810E - 372153N ...   \n",
      "14    UA 27  미악산  Circle with radius of 1.2 km (0.7 NM) centered...   \n",
      "15    UA 28  서운산  Circle with radius of 2.0 km(1.1 NM) centered ...   \n",
      "16    UA 29   오천  Circle with radius of 2.0 km(1.1 NM) centered ...   \n",
      "17    UA 30   북좌  Circle with radius of 2.0 km(1.1 NM) centered ...   \n",
      "18  * UA 31   청라  373354N 1263730E - 373400N 1263744E - 373351N ...   \n",
      "19  * UA 32   퇴촌  Circle with radius of 0.3 km(0.2 NM) centered ...   \n",
      "20  * UA 33  병천천  363904N 1272103E - 363902N 1272111E - 363850N ...   \n",
      "21  * UA 34  미호천  363710N 1272048E - 363705N 1272105E - 363636N ...   \n",
      "22  * UA 35   김해  352057N 1284815E - 352101N 1284825E - 352047N ...   \n",
      "23  * UA 36   밀양  352801N 1284642E - 352729N 1284714E - 352717N ...   \n",
      "24  * UA 37   창원  352238N 1283856E - 352238N 1283931E - 52216N 1...   \n",
      "25  * UA 38   울주  353129N 1290947E – 353128N 1290957E - 353130N ...   \n",
      "26  * UA 39   김제  355435N 1265304E - 355454N 1265257E - 355458N ...   \n",
      "27  * UA 40   고령  Circle with radius of 80 m(0.05 NM) centered o...   \n",
      "28  * UA 41   대전  362754N 1272326E – 362757N 1272427E - 362710N ...   \n",
      "29  **UA 42   광주  Circle with radius of 50m(0.03NM) centered on ...   \n",
      "30  **UA 43   영월  371036N 1282739E – 371031N 1282745E -\\r\\n     ...   \n",
      "\n",
      "                       수직범위  \n",
      "0   500ft AGL------SFC(지표면)  \n",
      "1                       NaN  \n",
      "2                       NaN  \n",
      "3                       NaN  \n",
      "4                       NaN  \n",
      "5                       NaN  \n",
      "6                       NaN  \n",
      "7                       NaN  \n",
      "8                       NaN  \n",
      "9                       NaN  \n",
      "10                      NaN  \n",
      "11                      NaN  \n",
      "12                      NaN  \n",
      "13                      NaN  \n",
      "14                      NaN  \n",
      "15                      NaN  \n",
      "16                      NaN  \n",
      "17                      NaN  \n",
      "18                      NaN  \n",
      "19                      NaN  \n",
      "20                      NaN  \n",
      "21                      NaN  \n",
      "22                      NaN  \n",
      "23                      NaN  \n",
      "24                      NaN  \n",
      "25                      NaN  \n",
      "26                      NaN  \n",
      "27                      NaN  \n",
      "28                      NaN  \n",
      "29                      NaN  \n",
      "30                      NaN  \n",
      "   Unnamed: 0               지역  \\\n",
      "0           0      대전 금강변 드론공원   \n",
      "1           1  광주 북구 영산강변 드론공원   \n",
      "2           2     광나루 한강변 드론공원   \n",
      "\n",
      "                                                  위치  \\\n",
      "0  대전 금강변 드론공원\\n\\n\\n\\n\\n\\n\\n\\n\\n\\n\\n\\n\\n대전 금강변 드론...   \n",
      "1  광주 북구 영산강변 드론공원\\n\\n\\n\\n\\n\\n\\n\\n\\n\\n\\n\\n\\n광주 북구...   \n",
      "2  광나루 한강변 드론공원\\n\\n\\n\\n\\n\\n\\n\\n\\n\\n\\n\\n\\n광나루 한강변 ...   \n",
      "\n",
      "                                                  좌표  \n",
      "0  [(36.465, 127.39055555555557), (36.46583333333...  \n",
      "1          [(35.22166666666667, 126.86166666666666)]  \n",
      "2         [(37.546638888888886, 127.12052777777777)]  \n"
     ]
    }
   ],
   "source": [
    "current_dir = os.getcwd()\n",
    "parent_dir = os.path.dirname(current_dir)\n",
    "data_dir = os.path.join(parent_dir, '크롤링')\n",
    "original_table_path = os.path.join(data_dir, r'원본(크롤링)\\original_NE.csv')\n",
    "dron_park_path = os.path.join(data_dir, r'원본(크롤링)\\df_dron_park.csv')\n",
    "original_table = pd.read_csv(original_table_path, encoding='utf-8')\n",
    "dron_park = pd.read_csv(dron_park_path, encoding='utf-8')\n",
    "# original_table = pd.read_csv(r\"C:\\Users\\user\\Desktop\\python 정리집\\웹크롤링 팀프로젝트\\original_NE.csv\", encoding='utf-8')\n",
    "# dron_park = pd.read_csv(r\"C:\\Users\\user\\Desktop\\python 정리집\\웹크롤링 팀프로젝트\\df_dron_park.csv\", encoding='utf-8')\n",
    "print(original_table)\n",
    "print(dron_park)"
   ]
  },
  {
   "cell_type": "code",
   "execution_count": 3,
   "id": "f97b604a-56c7-4a65-8684-f6bce969cf5d",
   "metadata": {},
   "outputs": [],
   "source": [
    "def dms_to_dd(dms_str):\n",
    "    m = re.match(r\"(\\d{2,3})(\\d{2})(\\d{2})([NSEW])\", dms_str.replace(\" \", \"\"))\n",
    "    if not m:\n",
    "        return None\n",
    "    deg, minute, second, direction = m.groups()\n",
    "    dd = int(deg) + int(minute) / 60 + int(second) / 3600\n",
    "    if direction in [\"S\", \"W\"]:\n",
    "        dd *= -1\n",
    "    return dd"
   ]
  },
  {
   "cell_type": "code",
   "execution_count": 4,
   "id": "dfc91741-ffff-4951-bfa5-4461b8fc6d95",
   "metadata": {},
   "outputs": [],
   "source": [
    "def extract_circle_data(text, region):\n",
    "    m = re.search(\n",
    "        r'Circle with radius of ([\\d.]+)\\s*(km|m).*?centered on\\s*([\\d]{6,7}[NSEW])\\s*([\\d]{6,7}[NSEW])',\n",
    "        text\n",
    "    )\n",
    "    if m:\n",
    "        radius = float(m.group(1))\n",
    "        unit = m.group(2).lower()\n",
    "        if unit == \"m\":\n",
    "            radius /= 1000\n",
    "        lat_str = m.group(3)\n",
    "        lon_str = m.group(4)\n",
    "        # 지역명이 \"광주\"인 경우에만 경도 교정 (예: 128... → 126...)\n",
    "        if region and \"광주\" in region:\n",
    "            if lon_str.startswith(\"128\"):\n",
    "                lon_str = \"126\" + lon_str[3:]\n",
    "        return radius, dms_to_dd(lat_str), dms_to_dd(lon_str)\n",
    "    return None, None, None"
   ]
  },
  {
   "cell_type": "code",
   "execution_count": 5,
   "id": "68c3ba47-5761-4088-8bca-eaace36b4f5a",
   "metadata": {},
   "outputs": [],
   "source": [
    "def build_circle_table():\n",
    "    df = original_table\n",
    "    df['반경'] = None\n",
    "    df['위도'] = None\n",
    "    df['경도'] = None\n",
    "    for idx, row in df.iterrows():\n",
    "        text = row['수평범위']\n",
    "        region = row['위치']  # 여기서는 '위치' 열에 지역명이 들어 있다고 가정\n",
    "        if text and \"Circle\" in text:\n",
    "            radius, lat, lon = extract_circle_data(text, region)\n",
    "            df.at[idx, '반경'] = radius\n",
    "            df.at[idx, '위도'] = lat\n",
    "            df.at[idx, '경도'] = lon\n",
    "    return df[df['반경'].notnull()][[\"구역 코드\", \"위치\", \"반경\", \"위도\", \"경도\"]].reset_index(drop=True)"
   ]
  },
  {
   "cell_type": "code",
   "execution_count": 6,
   "id": "90b2b5e7-451c-40b7-a756-0f99f3ca6e04",
   "metadata": {
    "scrolled": true
   },
   "outputs": [
    {
     "name": "stdout",
     "output_type": "stream",
     "text": [
      "      구역 코드   위치    반경         위도          경도\n",
      "0      UA 2  구성산   1.8  35.739167    127.0075\n",
      "1      UA 3   약산   0.7  35.739167  128.417222\n",
      "2      UA 4  봉화산   4.0  35.625278  129.092222\n",
      "3      UA 5  덕두산   4.5  35.411389    127.5325\n",
      "4      UA 6   금산   2.1  34.736389  127.981111\n",
      "5      UA 7   홍산   1.2  35.828056  127.081111\n",
      "6     UA 10   고창   4.0  35.386389  126.731389\n",
      "7     UA 21  방장산   3.0  35.449444  126.738056\n",
      "8     UA 24   구좌   2.8  33.478056  126.822778\n",
      "9     UA 27  미악산   1.2       33.3  126.554444\n",
      "10    UA 28  서운산   2.0  36.930556  127.283056\n",
      "11    UA 29   오천   2.0  36.953056  127.287778\n",
      "12    UA 30   북좌   2.0     37.045  127.327778\n",
      "13  * UA 32   퇴촌   0.3  37.466667    127.3025\n",
      "14  * UA 40   고령  0.08  35.842778  128.444167\n",
      "15  **UA 42   광주  0.05  35.221667  126.861667\n"
     ]
    }
   ],
   "source": [
    "circle_table = build_circle_table()\n",
    "print(circle_table)"
   ]
  },
  {
   "cell_type": "code",
   "execution_count": 7,
   "id": "2be6b1e7-c6fa-4d3e-9f06-f95867b63c12",
   "metadata": {},
   "outputs": [],
   "source": [
    "# \"드론공원\"까지의 부분만 남기는 함수\n",
    "def extract_location_name(region):\n",
    "    if pd.isnull(region):\n",
    "        return region\n",
    "    if \"드론공원\" in region:\n",
    "        return region.split(\"드론공원\")[0] + \"드론공원\"\n",
    "    return region"
   ]
  },
  {
   "cell_type": "code",
   "execution_count": 8,
   "id": "7db26ade-ed38-460b-a16d-4d749ea2a2d3",
   "metadata": {},
   "outputs": [],
   "source": [
    "# 좌표 컬럼이 문자열 형태로 저장되어 있다면 ast.literal_eval로 리스트로 변환\n",
    "dron_park[\"좌표\"] = dron_park[\"좌표\"].apply(lambda x: ast.literal_eval(x) if isinstance(x, str) else x)\n",
    "\n",
    "# '지역' 컬럼의 값을 '위치' 컬럼으로 재설정 (드론공원까지의 부분만 남김)\n",
    "dron_park[\"위치\"] = dron_park[\"지역\"].apply(extract_location_name)"
   ]
  },
  {
   "cell_type": "code",
   "execution_count": 9,
   "id": "5185cb3e-41a8-46f2-9cf6-ee24636f081a",
   "metadata": {},
   "outputs": [
    {
     "name": "stdout",
     "output_type": "stream",
     "text": [
      "  구역 코드               위치    반경         위도          경도\n",
      "1  None  광주 북구 영산강변 드론공원  None  35.221667  126.861667\n",
      "2  None     광나루 한강변 드론공원  None  37.546639  127.120528\n"
     ]
    }
   ],
   "source": [
    "# Circle: 좌표 목록의 길이가 1인 경우 (예: 광주 북구 영산강변 드론공원 등)\n",
    "df_Circle_new = dron_park[dron_park[\"좌표\"].apply(lambda x: isinstance(x, list) and len(x) == 1)].copy()\n",
    "# 좌표 목록의 단일 쌍에서 위도와 경도를 분리\n",
    "df_Circle_new[\"위도\"] = df_Circle_new[\"좌표\"].apply(lambda x: x[0][0] if isinstance(x, list) and len(x)==1 else None)\n",
    "df_Circle_new[\"경도\"] = df_Circle_new[\"좌표\"].apply(lambda x: x[0][1] if isinstance(x, list) and len(x)==1 else None)\n",
    "# 만약 반경 데이터가 df_dron에 있다면 사용, 없으면 None 처리 (여기서는 None으로 처리)\n",
    "df_Circle_new[\"반경\"] = None \n",
    "df_Circle_new['구역 코드'] = None\n",
    "df_Circle_new = df_Circle_new[[\"구역 코드\", \"위치\", \"반경\", \"위도\", \"경도\"]]\n",
    "print(df_Circle_new)"
   ]
  },
  {
   "cell_type": "code",
   "execution_count": 10,
   "id": "425d298a-686a-4629-a51f-98704957bb5f",
   "metadata": {},
   "outputs": [],
   "source": [
    "final_circle = pd.concat([circle_table, df_Circle_new])"
   ]
  },
  {
   "cell_type": "code",
   "execution_count": 11,
   "id": "035075eb-396f-4147-bd43-f20529566ca4",
   "metadata": {},
   "outputs": [
    {
     "name": "stdout",
     "output_type": "stream",
     "text": [
      "      구역 코드               위치    반경         위도          경도\n",
      "0      UA 2              구성산   1.8  35.739167    127.0075\n",
      "1      UA 3               약산   0.7  35.739167  128.417222\n",
      "2      UA 4              봉화산   4.0  35.625278  129.092222\n",
      "3      UA 5              덕두산   4.5  35.411389    127.5325\n",
      "4      UA 6               금산   2.1  34.736389  127.981111\n",
      "5      UA 7               홍산   1.2  35.828056  127.081111\n",
      "6     UA 10               고창   4.0  35.386389  126.731389\n",
      "7     UA 21              방장산   3.0  35.449444  126.738056\n",
      "8     UA 24               구좌   2.8  33.478056  126.822778\n",
      "9     UA 27              미악산   1.2       33.3  126.554444\n",
      "10    UA 28              서운산   2.0  36.930556  127.283056\n",
      "11    UA 29               오천   2.0  36.953056  127.287778\n",
      "12    UA 30               북좌   2.0     37.045  127.327778\n",
      "13  * UA 32               퇴촌   0.3  37.466667    127.3025\n",
      "14  * UA 40               고령  0.08  35.842778  128.444167\n",
      "15  **UA 42               광주  0.05  35.221667  126.861667\n",
      "1      None  광주 북구 영산강변 드론공원  None  35.221667  126.861667\n",
      "2      None     광나루 한강변 드론공원  None  37.546639  127.120528\n"
     ]
    }
   ],
   "source": [
    "print(final_circle)"
   ]
  },
  {
   "cell_type": "code",
   "execution_count": 19,
   "id": "7bbccb21-4ec5-4388-991c-1a3d2fcfa323",
   "metadata": {},
   "outputs": [
    {
     "name": "stdout",
     "output_type": "stream",
     "text": [
      "      구역 코드                   위치    반경         위도          경도  지역\n",
      "0      UA 2              전주(구성산)   1.8  35.739167    127.0075  전주\n",
      "1      UA 3               대구(약산)   0.7  35.739167  128.417222  대구\n",
      "2      UA 4              울산(봉화산)   4.0  35.625278  129.092222  울산\n",
      "3      UA 5              남원(덕두산)   4.5  35.411389    127.5325  남원\n",
      "4      UA 6                   금산   2.1  34.736389  127.981111  금산\n",
      "5      UA 7               전주(홍산)   1.2  35.828056  127.081111  전주\n",
      "6     UA 10                   고창   4.0  35.386389  126.731389  고창\n",
      "7     UA 21              광주(방장산)   3.0  35.449444  126.738056  광주\n",
      "8     UA 24               제주(구좌)   2.8  33.478056  126.822778  제주\n",
      "9     UA 27              제주(지악산)   1.2       33.3  126.554444  제주\n",
      "10    UA 28              천안(서운산)   2.0  36.930556  127.283056  천안\n",
      "11    UA 29               천안(오천)   2.0  36.953056  127.287778  천안\n",
      "12    UA 30               천안(북좌)   2.0     37.045  127.327778  천안\n",
      "13  * UA 32               양평(퇴촌)   0.3  37.466667    127.3025  양평\n",
      "14  * UA 40               대구(고령)  0.08  35.842778  128.444167  대구\n",
      "15  **UA 42                   광주  0.05  35.221667  126.861667  광주\n",
      "1      None  광주(광주 북구 영산강변 드론공원)  None  35.221667  126.861667  광주\n",
      "2      None     서울(광나루 한강변 드론공원)  None  37.546639  127.120528  서울\n"
     ]
    }
   ],
   "source": [
    "location_map = {\n",
    "    '구성산': '전주(구성산)',\n",
    "    '약산': '대구(약산)',\n",
    "    '봉화산': '울산(봉화산)',\n",
    "    '덕두산': '남원(덕두산)',\n",
    "    '홍산': '전주(홍산)',\n",
    "    '방장산': '광주(방장산)',\n",
    "    '구좌': '제주(구좌)',\n",
    "    '미악산': '제주(지악산)',\n",
    "    '서운산': '천안(서운산)',\n",
    "    '오천': '천안(오천)',\n",
    "    '북좌': '천안(북좌)',\n",
    "    '퇴촌': '양평(퇴촌)',\n",
    "    '고령': '대구(고령)',\n",
    "    '광주 북구 영산강변 드론공원': '광주(광주 북구 영산강변 드론공원)',\n",
    "    '광나루 한강변 드론공원': '서울(광나루 한강변 드론공원)'\n",
    "}\n",
    "\n",
    "# '위치' 컬럼에 있는 값들을 매핑된 값으로 바꿔줍니다.\n",
    "final_circle['위치'] = final_circle['위치'].map(location_map).fillna(final_circle['위치'])\n",
    "\n",
    "final_circle[\"지역\"] = final_circle[\"위치\"].str[:2]\n",
    "\n",
    "# 결과 확인\n",
    "print(final_circle)"
   ]
  },
  {
   "cell_type": "code",
   "execution_count": 12,
   "id": "36b9e9fa-fb2a-431d-85ac-c8e0a8c572e6",
   "metadata": {},
   "outputs": [],
   "source": [
    "data_dir = os.path.join(parent_dir, '데이터')\n",
    "original_table_path = os.path.join(data_dir, r'전처리\\Circle_table.csv')\n",
    "circle_table.to_csv(original_table_path, encoding='cp949', index=False)"
   ]
  }
 ],
 "metadata": {
  "kernelspec": {
   "display_name": "Python 3 (ipykernel)",
   "language": "python",
   "name": "python3"
  },
  "language_info": {
   "codemirror_mode": {
    "name": "ipython",
    "version": 3
   },
   "file_extension": ".py",
   "mimetype": "text/x-python",
   "name": "python",
   "nbconvert_exporter": "python",
   "pygments_lexer": "ipython3",
   "version": "3.12.7"
  }
 },
 "nbformat": 4,
 "nbformat_minor": 5
}
