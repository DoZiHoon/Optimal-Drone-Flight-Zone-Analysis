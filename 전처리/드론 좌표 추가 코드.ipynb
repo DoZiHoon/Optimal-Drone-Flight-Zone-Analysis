{
 "cells": [
  {
   "cell_type": "code",
   "execution_count": 1,
   "id": "365d9183-34aa-4b01-afad-2898a3018a59",
   "metadata": {},
   "outputs": [],
   "source": [
    "import os\n",
    "import ast\n",
    "import pandas as pd"
   ]
  },
  {
   "cell_type": "code",
   "execution_count": 2,
   "id": "16075a78-e880-49c5-9b68-02125378bfc7",
   "metadata": {},
   "outputs": [],
   "source": [
    "df_dron_park = pd.read_csv(r\"C:\\Users\\user\\Desktop\\python 정리집\\웹크롤링 팀프로젝트\\df_dron_park.csv\", encoding='cp949')\n",
    "circle_table = pd.read_csv(r\"C:\\Users\\user\\Desktop\\python 정리집\\웹크롤링 팀프로젝트\\Circle_table.csv\", encoding='utf-8')\n",
    "NE_table = pd.read_csv(r\"C:\\Users\\user\\Desktop\\python 정리집\\웹크롤링 팀프로젝트\\NE_table.csv\", encoding='utf-8')"
   ]
  },
  {
   "cell_type": "code",
   "execution_count": 3,
   "id": "63dea1c8-9344-45a9-a3cb-e519e7472a43",
   "metadata": {},
   "outputs": [
    {
     "data": {
      "text/html": [
       "<div>\n",
       "<style scoped>\n",
       "    .dataframe tbody tr th:only-of-type {\n",
       "        vertical-align: middle;\n",
       "    }\n",
       "\n",
       "    .dataframe tbody tr th {\n",
       "        vertical-align: top;\n",
       "    }\n",
       "\n",
       "    .dataframe thead th {\n",
       "        text-align: right;\n",
       "    }\n",
       "</style>\n",
       "<table border=\"1\" class=\"dataframe\">\n",
       "  <thead>\n",
       "    <tr style=\"text-align: right;\">\n",
       "      <th></th>\n",
       "      <th>지역</th>\n",
       "      <th>좌표</th>\n",
       "    </tr>\n",
       "  </thead>\n",
       "  <tbody>\n",
       "    <tr>\n",
       "      <th>0</th>\n",
       "      <td>대전 금강변 드론공원</td>\n",
       "      <td>[(36.465, 127.39055555555557), (36.46583333333...</td>\n",
       "    </tr>\n",
       "    <tr>\n",
       "      <th>1</th>\n",
       "      <td>광주 북구 영산강변 드론공원</td>\n",
       "      <td>[(35.22166666666667, 126.86166666666666)]</td>\n",
       "    </tr>\n",
       "    <tr>\n",
       "      <th>2</th>\n",
       "      <td>광나루 한강변 드론공원</td>\n",
       "      <td>[(37.546638888888886, 127.12052777777777), (12...</td>\n",
       "    </tr>\n",
       "  </tbody>\n",
       "</table>\n",
       "</div>"
      ],
      "text/plain": [
       "                지역                                                 좌표\n",
       "0      대전 금강변 드론공원  [(36.465, 127.39055555555557), (36.46583333333...\n",
       "1  광주 북구 영산강변 드론공원          [(35.22166666666667, 126.86166666666666)]\n",
       "2     광나루 한강변 드론공원  [(37.546638888888886, 127.12052777777777), (12..."
      ]
     },
     "execution_count": 3,
     "metadata": {},
     "output_type": "execute_result"
    }
   ],
   "source": [
    "df_dron_park"
   ]
  },
  {
   "cell_type": "code",
   "execution_count": 28,
   "id": "beb37b7d-9e83-4c0d-8b39-f02a91c834dd",
   "metadata": {},
   "outputs": [
    {
     "name": "stdout",
     "output_type": "stream",
     "text": [
      "  구역 코드            위치                                                 NE\n",
      "0         대전 금강변 드론공원  [(36.465, 127.39055555555557), (36.46583333333...\n",
      "2        광나루 한강변 드론공원  [(37.546638888888886, 127.12052777777777), (12...\n",
      "  구역 코드               위치    반경         위도          경도\n",
      "1        광주 북구 영산강변 드론공원  None  35.221667  126.861667\n",
      "=== 최종 NE Table ===\n",
      "      구역 코드           위치                                                 NE\n",
      "0      UA 9           양평  [(37.45, 127.38333333333334), (37.502777777777...\n",
      "1     UA 14           공주  [(36.45805555555556, 126.96388888888889), (36....\n",
      "2     UA 19          시화호  [(37.212500000000006, 126.67472222222223), (37...\n",
      "3     UA 25           하동  [(34.98777777777778, 127.72333333333333), (35....\n",
      "4     UA 26          장암산  [(37.36972222222222, 128.39194444444445), (37....\n",
      "5   * UA 31           청라  [(37.5625, 126.62666666666667), (37.565, 126.6...\n",
      "6   * UA 33          병천천  [(36.647777777777776, 127.34972222222221), (36...\n",
      "7   * UA 34          미호천  [(36.61388888888889, 127.3425), (36.6194444444...\n",
      "8   * UA 35           김해  [(35.34527777777778, 128.8063888888889), (35.3...\n",
      "9   * UA 36           밀양  [(35.46388888888889, 128.77416666666667), (35....\n",
      "10  * UA 37           창원  [(35.37027777777778, 128.64888888888888), (35....\n",
      "11  * UA 38           울주  [(35.52361111111111, 129.1627777777778), (35.5...\n",
      "12  * UA 39           김제  [(35.91083333333333, 126.89194444444445), (35....\n",
      "13  * UA 41           대전  [(36.45194444444445, 127.385), (36.465, 127.39...\n",
      "14  **UA 43           영월  [(37.17611111111111, 128.46027777777778), (37....\n",
      "15      NaN  대전 금강변 드론공원  [(36.465, 127.39055555555557), (36.46583333333...\n",
      "=== 최종 Circle Table ===\n",
      "      구역 코드               위치    반경         위도          경도\n",
      "0      UA 2              구성산  1.80  35.739167  127.007500\n",
      "1      UA 3               약산  0.70  35.739167  128.417222\n",
      "2      UA 4              봉화산  4.00  35.625278  129.092222\n",
      "3      UA 5              덕두산  4.50  35.411389  127.532500\n",
      "4      UA 6               금산  2.10  34.736389  127.981111\n",
      "5      UA 7               홍산  1.20  35.828056  127.081111\n",
      "6     UA 10               고창  4.00  35.386389  126.731389\n",
      "7     UA 21              방장산  3.00  35.449444  126.738056\n",
      "8     UA 24               구좌  2.80  33.478056  126.822778\n",
      "9     UA 27              미악산  1.20  33.300000  126.554444\n",
      "10    UA 28              서운산  2.00  36.930556  127.283056\n",
      "11    UA 29               오천  2.00  36.953056  127.287778\n",
      "12    UA 30               북좌  2.00  37.045000  127.327778\n",
      "13  * UA 32               퇴촌  0.30  37.466667  127.302500\n",
      "14  * UA 40               고령  0.08  35.842778  128.444167\n",
      "15  **UA 42               광주  0.05  35.221667  126.861667\n",
      "16      NaN  광주 북구 영산강변 드론공원   NaN  35.221667  126.861667\n",
      "17      NaN     광나루 한강변 드론공원   NaN  37.546639  127.120528\n"
     ]
    }
   ],
   "source": [
    "# \"드론공원\"까지의 부분만 남기는 함수\n",
    "def extract_location_name(region):\n",
    "    if pd.isnull(region):\n",
    "        return region\n",
    "    if \"드론공원\" in region:\n",
    "        return region.split(\"드론공원\")[0] + \"드론공원\"\n",
    "    return region\n",
    "\n",
    "# df_dron_park.csv 파일 읽기 (인코딩은 파일에 맞게 조정)\n",
    "df_dron = pd.read_csv(\"df_dron_park.csv\", encoding=\"cp949\")\n",
    "\n",
    "# 좌표 컬럼이 문자열 형태로 저장되어 있다면 ast.literal_eval로 리스트로 변환\n",
    "df_dron[\"좌표\"] = df_dron[\"좌표\"].apply(lambda x: ast.literal_eval(x) if isinstance(x, str) else x)\n",
    "\n",
    "# '지역' 컬럼의 값을 '위치' 컬럼으로 재설정 (드론공원까지의 부분만 남김)\n",
    "df_dron[\"위치\"] = df_dron[\"지역\"].apply(extract_location_name)\n",
    "\n",
    "# 신규 데이터를 NE와 Circle 데이터로 분리\n",
    "# NE: 좌표 목록의 길이가 2 이상인 경우 (예: 대전 금강변 드론공원)\n",
    "df_NE_new = df_dron[df_dron[\"좌표\"].apply(lambda x: isinstance(x, list) and len(x) > 1)].copy()\n",
    "df_NE_new[\"NE\"] = df_NE_new[\"좌표\"].apply(lambda x: str(x))\n",
    "df_NE_new['구역 코드'] = ''\n",
    "df_NE_new = df_NE_new[[\"구역 코드\", \"위치\", \"NE\"]]\n",
    "print(df_NE_new)\n",
    "\n",
    "# Circle: 좌표 목록의 길이가 1인 경우 (예: 광주 북구 영산강변 드론공원 등)\n",
    "df_Circle_new = df_dron[df_dron[\"좌표\"].apply(lambda x: isinstance(x, list) and len(x) == 1)].copy()\n",
    "# 좌표 목록의 단일 쌍에서 위도와 경도를 분리\n",
    "df_Circle_new[\"위도\"] = df_Circle_new[\"좌표\"].apply(lambda x: x[0][0] if isinstance(x, list) and len(x)==1 else None)\n",
    "df_Circle_new[\"경도\"] = df_Circle_new[\"좌표\"].apply(lambda x: x[0][1] if isinstance(x, list) and len(x)==1 else None)\n",
    "# 만약 반경 데이터가 df_dron에 있다면 사용, 없으면 None 처리 (여기서는 None으로 처리)\n",
    "df_Circle_new[\"반경\"] = None \n",
    "df_Circle_new['구역 코드'] = ''\n",
    "df_Circle_new = df_Circle_new[[\"구역 코드\", \"위치\", \"반경\", \"위도\", \"경도\"]]\n",
    "print(df_Circle_new)\n",
    "\n",
    "# --- 최종 데이터 병합 (append) ---\n",
    "final_ne = pd.merge(NE_table, df_NE_new, on = '구역 코드', how='left')\n",
    "final_circle = pd.merge(circle_table, df_Circle_new, on = '구역 코드', how='left')\n",
    "\n",
    "final_ne = final_ne.drop([final_ne.columns[3], final_ne.columns[4]], axis=1)\n",
    "final_ne = final_ne.rename(columns={'위치_x':'위치', 'NE_x':'NE'})\n",
    "\n",
    "final_circle = final_circle.drop(final_circle.columns[5:9], axis=1)\n",
    "final_circle = final_circle.rename(columns={'위치_x':'위치', '반경_x':'반경', '위도_x':'위도', '경도_x':'경도'})\n",
    "\n",
    "# 최종 데이터 출력 (확인용)\n",
    "print(\"=== 최종 NE Table ===\")\n",
    "print(final_ne)\n",
    "print(\"=== 최종 Circle Table ===\")\n",
    "print(final_circle)\n",
    "\n",
    "# 최종 결과를 CSV 파일로 저장\n",
    "# final_ne.to_csv(\"NE_table.csv\", encoding=\"utf-8-sig\", index=False)\n",
    "# final_circle.to_csv(\"Circle_table.csv\", encoding=\"utf-8-sig\", index=False)\n"
   ]
  },
  {
   "cell_type": "code",
   "execution_count": null,
   "id": "a2026d76-dc30-42e9-8967-eb9cb1498bb5",
   "metadata": {},
   "outputs": [],
   "source": []
  }
 ],
 "metadata": {
  "kernelspec": {
   "display_name": "Python 3 (ipykernel)",
   "language": "python",
   "name": "python3"
  },
  "language_info": {
   "codemirror_mode": {
    "name": "ipython",
    "version": 3
   },
   "file_extension": ".py",
   "mimetype": "text/x-python",
   "name": "python",
   "nbconvert_exporter": "python",
   "pygments_lexer": "ipython3",
   "version": "3.12.7"
  }
 },
 "nbformat": 4,
 "nbformat_minor": 5
}
