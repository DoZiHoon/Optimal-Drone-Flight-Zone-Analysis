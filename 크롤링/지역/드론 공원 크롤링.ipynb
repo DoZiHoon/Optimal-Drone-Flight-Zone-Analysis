{
 "cells": [
  {
   "cell_type": "code",
   "execution_count": 2,
   "id": "8772b2a3-8b90-4034-b81e-babc5b249a5a",
   "metadata": {},
   "outputs": [],
   "source": [
    "import os\n",
    "import urllib.request\n",
    "from bs4 import BeautifulSoup\n",
    "import pandas as pd\n",
    "import re"
   ]
  },
  {
   "cell_type": "code",
   "execution_count": 9,
   "id": "76137741-eb0c-46fe-b2ba-dbb3fc12bca2",
   "metadata": {},
   "outputs": [
    {
     "name": "stdout",
     "output_type": "stream",
     "text": [
      "추출된 신규 데이터:\n",
      "                지역                                                 좌표\n",
      "0      대전 금강변 드론공원  [(36.465, 127.39055555555557), (36.46583333333...\n",
      "1  광주 북구 영산강변 드론공원          [(35.22166666666667, 126.86166666666666)]\n",
      "2     광나루 한강변 드론공원  [(37.546638888888886, 127.12052777777777), (12...\n"
     ]
    }
   ],
   "source": [
    "def parse_dms_extended(coord_str):\n",
    "    coord_str = coord_str.strip()\n",
    "    if \"°\" in coord_str:\n",
    "        pattern = r\"(\\d+)[°]\\s*(\\d+)[\\'’]\\s*(\\d+(?:\\.\\d+)?)[\\\"']?\\s*([NSEW])\"\n",
    "        match = re.search(pattern, coord_str)\n",
    "        if match:\n",
    "            deg, minute, second, direction = match.groups()\n",
    "            dd = float(deg) + float(minute) / 60 + float(second) / 3600\n",
    "            if direction in ['S', 'W']:\n",
    "                dd = -dd\n",
    "            return dd\n",
    "        else:\n",
    "            return None\n",
    "    else:\n",
    "        pattern = r\"(\\d{2,3})(\\d{2})(\\d{2})([NSEW])\"\n",
    "        m = re.match(pattern, coord_str.replace(\" \", \"\"))\n",
    "        if m:\n",
    "            deg, minute, second, direction = m.groups()\n",
    "            dd = int(deg) + int(minute) / 60 + int(second) / 3600\n",
    "            if direction in ['S', 'W']:\n",
    "                dd = -dd\n",
    "            return dd\n",
    "        return None\n",
    "\n",
    "def extract_coordinates(text):\n",
    "    text = text.replace(\"–\", \" \")\n",
    "    pattern2 = r\"(\\d+[°]\\s*\\d+[\\'’]\\s*\\d+(?:\\.\\d+)?[\\\"']?\\s*[NSEW])\"\n",
    "    matches2 = re.findall(pattern2, text)\n",
    "    if matches2:\n",
    "        return matches2\n",
    "    else:\n",
    "        pattern1 = r\"(\\d{6,7}[NSEW])\"\n",
    "        return re.findall(pattern1, text)\n",
    "\n",
    "# 1. 페이지 크롤링 및 전체 텍스트 추출\n",
    "url = \"https://droneportal.or.kr/subList/22000000157\"\n",
    "headers = {'User-Agent': 'Mozilla/5.0'}\n",
    "req = urllib.request.Request(url, headers=headers)\n",
    "with urllib.request.urlopen(req) as response:\n",
    "    html_data = response.read().decode('utf-8')\n",
    "soup = BeautifulSoup(html_data, 'html.parser')\n",
    "page_text = soup.get_text(separator=\"\\n\")\n",
    "\n",
    "# 2. 대상 항목 추출\n",
    "target_titles = [\n",
    "    \"대전 금강변 드론공원\",\n",
    "    \"광주 북구 영산강변 드론공원\",\n",
    "    \"광나루 한강변 드론공원\"\n",
    "]\n",
    "\n",
    "results = []\n",
    "for i, title in enumerate(target_titles):\n",
    "    start_idx = page_text.find(title)\n",
    "    if start_idx == -1:\n",
    "        continue\n",
    "    if i < len(target_titles) - 1:\n",
    "        next_idx = page_text.find(target_titles[i+1], start_idx + len(title))\n",
    "        block = page_text[start_idx: next_idx] if next_idx != -1 else page_text[start_idx:]\n",
    "    else:\n",
    "        block = page_text[start_idx:]\n",
    "    \n",
    "    # 전체 블록에서 좌표 문자열 추출 (위치 텍스트가 따로 없을 수 있으므로)\n",
    "    coord_strs = extract_coordinates(block)\n",
    "    converted = [parse_dms_extended(cs) for cs in coord_strs if parse_dms_extended(cs) is not None]\n",
    "    pairs = []\n",
    "    for j in range(0, len(converted), 2):\n",
    "        if j+1 < len(converted):\n",
    "            pairs.append((converted[j], converted[j+1]))\n",
    "    \n",
    "    results.append({\n",
    "        \"지역\": title,\n",
    "        \"좌표\": pairs\n",
    "    })\n",
    "\n",
    "df_dron_park = pd.DataFrame(results, columns=[\"지역\", \"좌표\"])\n",
    "print(\"추출된 신규 데이터:\")\n",
    "print(df_dron_park)\n",
    "\n",
    "df_dron_park.to_csv('df_dron_park.csv', encoding='cp949', index=False)"
   ]
  },
  {
   "cell_type": "code",
   "execution_count": null,
   "id": "76fd0339-27b8-4bde-91ae-7a6c7ce31cc7",
   "metadata": {},
   "outputs": [],
   "source": []
  }
 ],
 "metadata": {
  "kernelspec": {
   "display_name": "Python 3 (ipykernel)",
   "language": "python",
   "name": "python3"
  },
  "language_info": {
   "codemirror_mode": {
    "name": "ipython",
    "version": 3
   },
   "file_extension": ".py",
   "mimetype": "text/x-python",
   "name": "python",
   "nbconvert_exporter": "python",
   "pygments_lexer": "ipython3",
   "version": "3.12.7"
  }
 },
 "nbformat": 4,
 "nbformat_minor": 5
}
